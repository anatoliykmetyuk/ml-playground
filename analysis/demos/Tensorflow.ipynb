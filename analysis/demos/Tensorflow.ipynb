{
 "cells": [
  {
   "cell_type": "code",
   "execution_count": 1,
   "metadata": {},
   "outputs": [],
   "source": [
    "import tensorflow as tf\n",
    "\n",
    "'''\n",
    "A linear regression learning algorithm example using TensorFlow library.\n",
    "\n",
    "Author: Aymeric Damien\n",
    "Project: https://github.com/aymericdamien/TensorFlow-Examples/\n",
    "'''\n",
    "\n",
    "from __future__ import print_function\n",
    "\n",
    "import tensorflow as tf\n",
    "import numpy\n",
    "import matplotlib.pyplot as plt\n",
    "import os"
   ]
  },
  {
   "cell_type": "code",
   "execution_count": 5,
   "metadata": {},
   "outputs": [
    {
     "name": "stdout",
     "output_type": "stream",
     "text": [
      "Epoch: 0050 cost= 0.102754444 W= 0.339465 b= 0.154938\n",
      "Epoch: 0100 cost= 0.099773481 W= 0.33412 b= 0.19339\n",
      "Epoch: 0150 cost= 0.097137041 W= 0.329093 b= 0.229556\n",
      "Epoch: 0200 cost= 0.094805285 W= 0.324365 b= 0.26357\n",
      "Epoch: 0250 cost= 0.092743017 W= 0.319918 b= 0.295561\n",
      "Epoch: 0300 cost= 0.090919152 W= 0.315735 b= 0.32565\n",
      "Epoch: 0350 cost= 0.089306153 W= 0.311801 b= 0.353948\n",
      "Epoch: 0400 cost= 0.087879598 W= 0.308102 b= 0.380564\n",
      "Epoch: 0450 cost= 0.086618014 W= 0.304622 b= 0.405598\n",
      "Epoch: 0500 cost= 0.085502326 W= 0.301349 b= 0.429142\n",
      "Epoch: 0550 cost= 0.084515698 W= 0.298271 b= 0.451285\n",
      "Epoch: 0600 cost= 0.083643116 W= 0.295376 b= 0.472113\n",
      "Epoch: 0650 cost= 0.082871549 W= 0.292653 b= 0.491701\n",
      "Epoch: 0700 cost= 0.082189225 W= 0.290092 b= 0.510125\n",
      "Epoch: 0750 cost= 0.081585847 W= 0.287683 b= 0.527453\n",
      "Epoch: 0800 cost= 0.081052370 W= 0.285418 b= 0.543749\n",
      "Epoch: 0850 cost= 0.080580577 W= 0.283287 b= 0.559078\n",
      "Epoch: 0900 cost= 0.080163434 W= 0.281283 b= 0.573495\n",
      "Epoch: 0950 cost= 0.079794593 W= 0.279398 b= 0.587054\n",
      "Epoch: 1000 cost= 0.079468504 W= 0.277626 b= 0.599807\n",
      "Optimization Finished!\n",
      "Training cost= 0.0794685 W= 0.277626 b= 0.599807 \n",
      "\n"
     ]
    },
    {
     "data": {
      "image/png": "[encoded data removed]",
      "text/plain": [
       "<Figure size 432x288 with 1 Axes>"
      ]
     },
     "metadata": {},
     "output_type": "display_data"
    },
    {
     "name": "stdout",
     "output_type": "stream",
     "text": [
      "Testing... (Mean square loss Comparison)\n",
      "Testing cost= 0.0763091\n",
      "Absolute mean square loss difference: 0.00315944\n"
     ]
    },
    {
     "data": {
      "image/png": "[encoded data removed]",
      "text/plain": [
       "<Figure size 432x288 with 1 Axes>"
      ]
     },
     "metadata": {},
     "output_type": "display_data"
    }
   ],
   "source": [
    "rng = numpy.random\n",
    "\n",
    "# Parameters\n",
    "learning_rate = 0.01\n",
    "training_epochs = 1000\n",
    "display_step = 50\n",
    "log_dir = os.path.join(os.getenv('TENSORBOARD_LOG_DIR'), 'tensorflow-demo')\n",
    "\n",
    "# Training Data\n",
    "train_X = numpy.asarray([3.3,4.4,5.5,6.71,6.93,4.168,9.779,6.182,7.59,2.167,\n",
    "                         7.042,10.791,5.313,7.997,5.654,9.27,3.1])\n",
    "train_Y = numpy.asarray([1.7,2.76,2.09,3.19,1.694,1.573,3.366,2.596,2.53,1.221,\n",
    "                         2.827,3.465,1.65,2.904,2.42,2.94,1.3])\n",
    "n_samples = train_X.shape[0]\n",
    "\n",
    "g = tf.Graph()\n",
    "with g.as_default():\n",
    "  # tf Graph Input\n",
    "  X = tf.placeholder(\"float\")\n",
    "  Y = tf.placeholder(\"float\")\n",
    "\n",
    "  # Set model weights\n",
    "  W = tf.Variable(rng.randn(), name=\"weight\")\n",
    "  b = tf.Variable(rng.randn(), name=\"bias\")\n",
    "\n",
    "  # Construct a linear model\n",
    "  pred = tf.add(tf.multiply(X, W), b)\n",
    "\n",
    "  # Mean squared error\n",
    "  cost = tf.reduce_sum(tf.pow(pred-Y, 2))/(2*n_samples)\n",
    "\n",
    "  # Gradient descent\n",
    "  #  Note, minimize() knows to modify W and b because Variable objects are trainable=True by default\n",
    "  optimizer = tf.train.GradientDescentOptimizer(learning_rate).minimize(cost)\n",
    "\n",
    "  # Initialize the variables (i.e. assign their default value)\n",
    "  init = tf.global_variables_initializer()\n",
    "\n",
    "  # Summaries\n",
    "  tf.summary.scalar('loss', cost)\n",
    "  summaries = tf.summary.merge_all()\n",
    "\n",
    "  if not os.path.exists(log_dir): os.makedirs(log_dir)\n",
    "  run_id = len([name for name in os.listdir(log_dir)])\n",
    "  run_log_dir = os.path.join(log_dir, str(run_id))\n",
    "  log_writer = tf.summary.FileWriter(run_log_dir, graph = tf.get_default_graph())\n",
    "\n",
    "\n",
    "# Start training\n",
    "with tf.Session(graph = g) as sess:\n",
    "\n",
    "    # Run the initializer\n",
    "    sess.run(init)\n",
    "\n",
    "    # Fit all training data\n",
    "    for epoch in range(training_epochs):\n",
    "        for (x, y) in zip(train_X, train_Y):\n",
    "            sess.run(optimizer, feed_dict={X: x, Y: y})\n",
    "\n",
    "        # Display logs per epoch step\n",
    "        if (epoch+1) % display_step == 0:\n",
    "            summary, c = sess.run([summaries, cost], feed_dict={X: train_X, Y:train_Y})\n",
    "            print(\"Epoch:\", '%04d' % (epoch+1), \"cost=\", \"{:.9f}\".format(c), \\\n",
    "                \"W=\", sess.run(W), \"b=\", sess.run(b))\n",
    "            log_writer.add_summary(summary, epoch)\n",
    "\n",
    "    print(\"Optimization Finished!\")\n",
    "    training_cost = sess.run(cost, feed_dict={X: train_X, Y: train_Y})\n",
    "    print(\"Training cost=\", training_cost, \"W=\", sess.run(W), \"b=\", sess.run(b), '\\n')\n",
    "\n",
    "    # Graphic display\n",
    "    plt.plot(train_X, train_Y, 'ro', label='Original data')\n",
    "    plt.plot(train_X, sess.run(W) * train_X + sess.run(b), label='Fitted line')\n",
    "    plt.legend()\n",
    "    plt.show()\n",
    "\n",
    "    # Testing example, as requested (Issue #2)\n",
    "    test_X = numpy.asarray([6.83, 4.668, 8.9, 7.91, 5.7, 8.7, 3.1, 2.1])\n",
    "    test_Y = numpy.asarray([1.84, 2.273, 3.2, 2.831, 2.92, 3.24, 1.35, 1.03])\n",
    "\n",
    "    print(\"Testing... (Mean square loss Comparison)\")\n",
    "    testing_cost = sess.run(\n",
    "        tf.reduce_sum(tf.pow(pred - Y, 2)) / (2 * test_X.shape[0]),\n",
    "        feed_dict={X: test_X, Y: test_Y})  # same function as cost above\n",
    "    print(\"Testing cost=\", testing_cost)\n",
    "    print(\"Absolute mean square loss difference:\", abs(\n",
    "        training_cost - testing_cost))\n",
    "\n",
    "    plt.plot(test_X, test_Y, 'bo', label='Testing data')\n",
    "    plt.plot(train_X, sess.run(W) * train_X + sess.run(b), label='Fitted line')\n",
    "    plt.legend()\n",
    "    plt.show()"
   ]
  },
  {
   "cell_type": "code",
   "execution_count": null,
   "metadata": {},
   "outputs": [],
   "source": []
  }
 ],
 "metadata": {
  "kernelspec": {
   "display_name": "Python [default]",
   "language": "python",
   "name": "python3"
  },
  "language_info": {
   "codemirror_mode": {
    "name": "ipython",
    "version": 3
   },
   "file_extension": ".py",
   "mimetype": "text/x-python",
   "name": "python",
   "nbconvert_exporter": "python",
   "pygments_lexer": "ipython3",
   "version": "3.6.3"
  }
 },
 "nbformat": 4,
 "nbformat_minor": 2
}
